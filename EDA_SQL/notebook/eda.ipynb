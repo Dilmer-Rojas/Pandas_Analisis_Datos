{
 "cells": [
  {
   "cell_type": "code",
   "execution_count": 1,
   "metadata": {},
   "outputs": [],
   "source": [
    "import sqlite3\n",
    "import pandas as pd"
   ]
  },
  {
   "cell_type": "code",
   "execution_count": 9,
   "metadata": {},
   "outputs": [],
   "source": [
    "conexion = sqlite3.connect(\"../data/eda.db\")\n",
    "cursor = conexion.cursor()"
   ]
  },
  {
   "cell_type": "code",
   "execution_count": 10,
   "metadata": {},
   "outputs": [],
   "source": [
    "query = \"\"\"\n",
    "        CREATE TABLE IF NOT EXISTS Empleados (\n",
    "            id INT PRIMARY KEY,\n",
    "            nombre TEXT,\n",
    "            genero TEXT,\n",
    "            edad INT\n",
    "        )\n",
    "        \"\"\"\n",
    "conexion.execute(query)\n",
    "conexion.commit()"
   ]
  },
  {
   "cell_type": "code",
   "execution_count": 11,
   "metadata": {},
   "outputs": [],
   "source": [
    "add_query = \"\"\"\n",
    "            INSERT INTO Empleados (id, nombre, genero, edad) VALUES \n",
    "            (1, \"José\", \"M\", 34),\n",
    "            (2, \"Ester\", \"F\", 28),\n",
    "            (3, \"Emily\", \"F\", 24),\n",
    "            (4, \"David\", \"M\", 44),\n",
    "            (5, \"Luis\", \"M\", 54),\n",
    "            (6, \"Franco\", \"M\", 38);\n",
    "            \"\"\"\n",
    "conexion.execute(add_query)\n",
    "conexion.commit()"
   ]
  },
  {
   "cell_type": "markdown",
   "metadata": {},
   "source": [
    "#### Calcular Percentiles con SQLite"
   ]
  },
  {
   "cell_type": "code",
   "execution_count": 42,
   "metadata": {},
   "outputs": [
    {
     "data": {
      "text/html": [
       "<div>\n",
       "<style scoped>\n",
       "    .dataframe tbody tr th:only-of-type {\n",
       "        vertical-align: middle;\n",
       "    }\n",
       "\n",
       "    .dataframe tbody tr th {\n",
       "        vertical-align: top;\n",
       "    }\n",
       "\n",
       "    .dataframe thead th {\n",
       "        text-align: right;\n",
       "    }\n",
       "</style>\n",
       "<table border=\"1\" class=\"dataframe\">\n",
       "  <thead>\n",
       "    <tr style=\"text-align: right;\">\n",
       "      <th></th>\n",
       "      <th>P25</th>\n",
       "      <th>P50</th>\n",
       "      <th>P75</th>\n",
       "    </tr>\n",
       "  </thead>\n",
       "  <tbody>\n",
       "    <tr>\n",
       "      <th>0</th>\n",
       "      <td>29.5</td>\n",
       "      <td>36.0</td>\n",
       "      <td>42.5</td>\n",
       "    </tr>\n",
       "  </tbody>\n",
       "</table>\n",
       "</div>"
      ],
      "text/plain": [
       "    P25   P50   P75\n",
       "0  29.5  36.0  42.5"
      ]
     },
     "execution_count": 42,
     "metadata": {},
     "output_type": "execute_result"
    }
   ],
   "source": [
    "percentiles = \"\"\"\n",
    "                WITH ordenado AS (\n",
    "                    SELECT edad, \n",
    "                    ROW_NUMBER() OVER (ORDER BY edad) AS fila,\n",
    "                    COUNT(*) OVER () AS total_filas\n",
    "                FROM empleados\n",
    "                ),\n",
    "                percentiles AS (\n",
    "                    SELECT \n",
    "                        0.25 * (total_filas - 1) + 1 AS p25_pos,\n",
    "                        0.50 * (total_filas - 1) + 1 AS p50_pos,\n",
    "                        0.75 * (total_filas - 1) + 1 AS p75_pos\n",
    "                    FROM ordenado\n",
    "                    LIMIT 1\n",
    "                )\n",
    "                SELECT \n",
    "                    (SELECT edad FROM ordenado WHERE fila = FLOOR(p25_pos)) * (CEIL(p25_pos) - p25_pos) +\n",
    "                    (SELECT edad FROM ordenado WHERE fila = CEIL(p25_pos)) * (p25_pos - FLOOR(p25_pos)) AS P25,\n",
    "\n",
    "                    (SELECT edad FROM ordenado WHERE fila = FLOOR(p50_pos)) * (CEIL(p50_pos) - p50_pos) +\n",
    "                    (SELECT edad FROM ordenado WHERE fila = CEIL(p50_pos)) * (p50_pos - FLOOR(p50_pos)) AS P50,\n",
    "\n",
    "                    (SELECT edad FROM ordenado WHERE fila = FLOOR(p75_pos)) * (CEIL(p75_pos) - p75_pos) +\n",
    "                    (SELECT edad FROM ordenado WHERE fila = CEIL(p75_pos)) * (p75_pos - FLOOR(p75_pos)) AS P75\n",
    "                FROM percentiles;\n",
    "                \"\"\"\n",
    "percentiles = pd.read_sql_query(percentiles, conexion)\n",
    "percentiles"
   ]
  },
  {
   "cell_type": "markdown",
   "metadata": {},
   "source": [
    "#### Calcular Pecentiles con Pandas Python"
   ]
  },
  {
   "cell_type": "code",
   "execution_count": 24,
   "metadata": {},
   "outputs": [
    {
     "name": "stdout",
     "output_type": "stream",
     "text": [
      "P25: 29.5, P50: 36.0, P75: 42.5\n"
     ]
    }
   ],
   "source": [
    "# Obtener los datos de la tabla empleados\n",
    "cursor.execute(\"SELECT edad FROM empleados\")\n",
    "edades = [fila[0] for fila in cursor.fetchall()]  # Convertir a lista\n",
    "\n",
    "import numpy as np\n",
    "\n",
    "p25 = np.percentile(edades, 25)\n",
    "p50 = np.percentile(edades, 50)\n",
    "p75 = np.percentile(edades, 75)\n",
    "\n",
    "print(f\"P25: {p25}, P50: {p50}, P75: {p75}\")\n"
   ]
  },
  {
   "cell_type": "markdown",
   "metadata": {},
   "source": [
    "#### Detectar valores Atípicos (Outliers) en SQLite"
   ]
  },
  {
   "cell_type": "code",
   "execution_count": 43,
   "metadata": {},
   "outputs": [
    {
     "data": {
      "text/html": [
       "<div>\n",
       "<style scoped>\n",
       "    .dataframe tbody tr th:only-of-type {\n",
       "        vertical-align: middle;\n",
       "    }\n",
       "\n",
       "    .dataframe tbody tr th {\n",
       "        vertical-align: top;\n",
       "    }\n",
       "\n",
       "    .dataframe thead th {\n",
       "        text-align: right;\n",
       "    }\n",
       "</style>\n",
       "<table border=\"1\" class=\"dataframe\">\n",
       "  <thead>\n",
       "    <tr style=\"text-align: right;\">\n",
       "      <th></th>\n",
       "      <th>edad</th>\n",
       "    </tr>\n",
       "  </thead>\n",
       "  <tbody>\n",
       "  </tbody>\n",
       "</table>\n",
       "</div>"
      ],
      "text/plain": [
       "Empty DataFrame\n",
       "Columns: [edad]\n",
       "Index: []"
      ]
     },
     "execution_count": 43,
     "metadata": {},
     "output_type": "execute_result"
    }
   ],
   "source": [
    "quartilIQR = \"\"\"\n",
    "            WITH ordenado AS (\n",
    "    SELECT edad, \n",
    "           ROW_NUMBER() OVER (ORDER BY edad) AS fila,\n",
    "           COUNT(*) OVER () AS total\n",
    "    FROM empleados\n",
    "), percentiles AS (\n",
    "    SELECT \n",
    "        0.25 * (total - 1) + 1 AS p25_pos,\n",
    "        0.75 * (total - 1) + 1 AS p75_pos\n",
    "    FROM ordenado LIMIT 1\n",
    "), valores AS (\n",
    "    SELECT \n",
    "        (SELECT edad FROM ordenado WHERE fila = FLOOR(p25_pos)) * (CEIL(p25_pos) - p25_pos) +\n",
    "        (SELECT edad FROM ordenado WHERE fila = CEIL(p25_pos)) * (p25_pos - FLOOR(p25_pos)) AS P25,\n",
    "        \n",
    "        (SELECT edad FROM ordenado WHERE fila = FLOOR(p75_pos)) * (CEIL(p75_pos) - p75_pos) +\n",
    "        (SELECT edad FROM ordenado WHERE fila = CEIL(p75_pos)) * (p75_pos - FLOOR(p75_pos)) AS P75\n",
    "    FROM percentiles\n",
    "), limites AS (\n",
    "    SELECT \n",
    "        P25, \n",
    "        P75, \n",
    "        (P75 - P25) AS IQR, \n",
    "        (P25 - 1.5 * (P75 - P25)) AS Limite_Inferior, \n",
    "        (P75 + 1.5 * (P75 - P25)) AS Limite_Superior\n",
    "    FROM valores\n",
    ")\n",
    "SELECT e.edad \n",
    "FROM empleados e\n",
    "JOIN limites l\n",
    "ON e.edad < l.Limite_Inferior OR e.edad > l.Limite_Superior;\n",
    "\n",
    "            \"\"\"\n",
    "            \n",
    "quartilIQR = pd.read_sql_query(quartilIQR, conexion)\n",
    "quartilIQR"
   ]
  },
  {
   "cell_type": "markdown",
   "metadata": {},
   "source": [
    "#### Detectar Outlier con Python Pandas"
   ]
  },
  {
   "cell_type": "code",
   "execution_count": 45,
   "metadata": {},
   "outputs": [
    {
     "name": "stdout",
     "output_type": "stream",
     "text": [
      "P25: 29.5, P75: 42.5, IQR: 13.0\n",
      "Límite inferior: 10.0, Límite superior: 62.0\n",
      "Outliers detectados:\n",
      "Empty DataFrame\n",
      "Columns: [edad]\n",
      "Index: []\n"
     ]
    }
   ],
   "source": [
    "# Obtener los datos de la base de datos\n",
    "cursor.execute(\"SELECT edad FROM empleados\")\n",
    "edades = [fila[0] for fila in cursor.fetchall()]  # Convertir a lista\n",
    "\n",
    "# Crear DataFrame\n",
    "df = pd.DataFrame(edades, columns=['edad'])\n",
    "\n",
    "# Calcular P25, P75 e IQR\n",
    "P25 = df['edad'].quantile(0.25, interpolation='linear')\n",
    "P75 = df['edad'].quantile(0.75, interpolation='linear')\n",
    "IQR = P75 - P25\n",
    "\n",
    "# Definir límites de outliers\n",
    "limite_inferior = P25 - 1.5 * IQR\n",
    "limite_superior = P75 + 1.5 * IQR\n",
    "\n",
    "# Filtrar outliers\n",
    "outliers = df[(df['edad'] < limite_inferior) | (df['edad'] > limite_superior)]\n",
    "\n",
    "# Mostrar resultados\n",
    "print(f\"P25: {P25}, P75: {P75}, IQR: {IQR}\")\n",
    "print(f\"Límite inferior: {limite_inferior}, Límite superior: {limite_superior}\")\n",
    "print(\"Outliers detectados:\")\n",
    "print(outliers)"
   ]
  },
  {
   "cell_type": "code",
   "execution_count": 28,
   "metadata": {},
   "outputs": [
    {
     "name": "stdout",
     "output_type": "stream",
     "text": [
      "Requirement already satisfied: openpyxl in c:\\users\\harri\\anaconda3\\envs\\northwind_sql\\lib\\site-packages (3.1.5)\n",
      "Requirement already satisfied: et-xmlfile in c:\\users\\harri\\anaconda3\\envs\\northwind_sql\\lib\\site-packages (from openpyxl) (2.0.0)\n"
     ]
    }
   ],
   "source": [
    "import sys\n",
    "!{sys.executable} -m pip install openpyxl"
   ]
  },
  {
   "cell_type": "code",
   "execution_count": 29,
   "metadata": {},
   "outputs": [],
   "source": [
    "df = \"SELECT * FROM Empleados;\"\n",
    "\n",
    "df = pd.read_sql_query(df, conexion)\n",
    "\n",
    "ruta_excel = \"../data/Empleados.xlsx\"\n",
    "df.to_excel(ruta_excel, index=False, engine=\"openpyxl\")"
   ]
  },
  {
   "cell_type": "code",
   "execution_count": null,
   "metadata": {},
   "outputs": [],
   "source": [
    "#conexion.close()"
   ]
  }
 ],
 "metadata": {
  "kernelspec": {
   "display_name": "Northwind_sql",
   "language": "python",
   "name": "python3"
  },
  "language_info": {
   "codemirror_mode": {
    "name": "ipython",
    "version": 3
   },
   "file_extension": ".py",
   "mimetype": "text/x-python",
   "name": "python",
   "nbconvert_exporter": "python",
   "pygments_lexer": "ipython3",
   "version": "3.13.2"
  }
 },
 "nbformat": 4,
 "nbformat_minor": 2
}
